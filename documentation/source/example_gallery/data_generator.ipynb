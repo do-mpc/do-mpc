{
 "cells": [
  {
   "cell_type": "markdown",
   "id": "intermediate-soundtrack",
   "metadata": {},
   "source": [
    "# Efficient data generation and handling with do-mpc\n",
    "\n",
    "This notebook was used in our video tutorial on [data generation and handling with do-mpc](https://www.youtube.com/watch?v=3ELyErkYPhE).\n",
    "\n",
    "We start by importing basic modules and **do-mpc**."
   ]
  },
  {
   "cell_type": "code",
   "execution_count": 1,
   "id": "generic-stephen",
   "metadata": {},
   "outputs": [],
   "source": [
    "import numpy as np\n",
    "import sys\n",
    "from casadi import *\n",
    "import os\n",
    "import time\n",
    "\n",
    "# Add do_mpc to path. This is not necessary if it was installed via pip\n",
    "import os\n",
    "rel_do_mpc_path = os.path.join('..','..','..')\n",
    "sys.path.append(rel_do_mpc_path)\n",
    "\n",
    "# Import do_mpc package:\n",
    "import do_mpc\n",
    "\n",
    "import matplotlib.pyplot as plt\n",
    "\n",
    "import pandas as pd"
   ]
  },
  {
   "cell_type": "markdown",
   "id": "tracked-storm",
   "metadata": {},
   "source": [
    "## Toy example\n"
   ]
  },
  {
   "cell_type": "markdown",
   "id": "bound-penetration",
   "metadata": {},
   "source": [
    "**Step 1:** Create the ``sampling_plan`` with the ``SamplingPlanner``."
   ]
  },
  {
   "cell_type": "markdown",
   "id": "f3819534",
   "metadata": {},
   "source": [
    "<img src=\"./figures/sampling_concept_01_planner.pdf\" width=\"60%\">\n",
    "\n",
    "\n",
    "The planner is initiated and we set some (optional) parameters."
   ]
  },
  {
   "cell_type": "code",
   "execution_count": 2,
   "id": "mechanical-pierce",
   "metadata": {},
   "outputs": [],
   "source": [
    "sp = do_mpc.sampling.SamplingPlanner()\n",
    "sp.set_param(overwrite = True)\n",
    "# This generates the directory, if it does not exist already.\n",
    "sp.data_dir = './sampling_test/'"
   ]
  },
  {
   "cell_type": "markdown",
   "id": "convinced-attendance",
   "metadata": {},
   "source": [
    "We then introduce new variables to the ``SamplingPlanner`` which will later jointly define a sampling case. Think of header rows in a table (see figure above). \n",
    "\n",
    "These variables can themselves be sampled from a generating function or we add user defined cases one by one. If we want to sample variables to define the sampling case, we need to pass a sample generating function as shown below:"
   ]
  },
  {
   "cell_type": "code",
   "execution_count": 3,
   "id": "common-priest",
   "metadata": {},
   "outputs": [],
   "source": [
    "sp.set_sampling_var('alpha', np.random.randn)\n",
    "sp.set_sampling_var('beta', lambda: np.random.randint(0,5))"
   ]
  },
  {
   "cell_type": "markdown",
   "id": "affiliated-formation",
   "metadata": {},
   "source": [
    "In this example we have two variables ``alpha`` and ``beta``. We have:\n",
    "\n",
    "$$\n",
    "\\alpha \\sim \\mathcal{N}(\\mu,\\sigma)\n",
    "$$\n",
    "\n",
    "and \n",
    "\n",
    "$$\n",
    "\\beta\\sim \\mathcal{U}([0,5])\n",
    "$$"
   ]
  },
  {
   "cell_type": "markdown",
   "id": "timely-nelson",
   "metadata": {},
   "source": [
    "Having defined generating functions for **all of our variables**, we can now generate a sampling plan with an arbitrary amount of cases:\n",
    "\n",
    "```python\n",
    "SamplingPlanner.gen_sampling_plan(n_samples)\n",
    "```"
   ]
  },
  {
   "cell_type": "code",
   "execution_count": 4,
   "id": "metropolitan-gothic",
   "metadata": {},
   "outputs": [],
   "source": [
    "plan = sp.gen_sampling_plan(n_samples=10)"
   ]
  },
  {
   "cell_type": "markdown",
   "id": "81e77257",
   "metadata": {},
   "source": [
    "We can inspect the plan conveniently by converting it to a pandas ``DataFrame``. Natively, the plan is a list of dictionaries."
   ]
  },
  {
   "cell_type": "code",
   "execution_count": 5,
   "id": "7eaadd2d",
   "metadata": {},
   "outputs": [
    {
     "data": {
      "text/html": [
       "<div>\n",
       "<style scoped>\n",
       "    .dataframe tbody tr th:only-of-type {\n",
       "        vertical-align: middle;\n",
       "    }\n",
       "\n",
       "    .dataframe tbody tr th {\n",
       "        vertical-align: top;\n",
       "    }\n",
       "\n",
       "    .dataframe thead th {\n",
       "        text-align: right;\n",
       "    }\n",
       "</style>\n",
       "<table border=\"1\" class=\"dataframe\">\n",
       "  <thead>\n",
       "    <tr style=\"text-align: right;\">\n",
       "      <th></th>\n",
       "      <th>alpha</th>\n",
       "      <th>beta</th>\n",
       "      <th>id</th>\n",
       "    </tr>\n",
       "  </thead>\n",
       "  <tbody>\n",
       "    <tr>\n",
       "      <th>0</th>\n",
       "      <td>0.105326</td>\n",
       "      <td>0</td>\n",
       "      <td>000</td>\n",
       "    </tr>\n",
       "    <tr>\n",
       "      <th>1</th>\n",
       "      <td>0.784304</td>\n",
       "      <td>2</td>\n",
       "      <td>001</td>\n",
       "    </tr>\n",
       "    <tr>\n",
       "      <th>2</th>\n",
       "      <td>0.257489</td>\n",
       "      <td>1</td>\n",
       "      <td>002</td>\n",
       "    </tr>\n",
       "    <tr>\n",
       "      <th>3</th>\n",
       "      <td>1.552975</td>\n",
       "      <td>1</td>\n",
       "      <td>003</td>\n",
       "    </tr>\n",
       "    <tr>\n",
       "      <th>4</th>\n",
       "      <td>0.053229</td>\n",
       "      <td>3</td>\n",
       "      <td>004</td>\n",
       "    </tr>\n",
       "    <tr>\n",
       "      <th>5</th>\n",
       "      <td>1.041070</td>\n",
       "      <td>4</td>\n",
       "      <td>005</td>\n",
       "    </tr>\n",
       "    <tr>\n",
       "      <th>6</th>\n",
       "      <td>0.473513</td>\n",
       "      <td>0</td>\n",
       "      <td>006</td>\n",
       "    </tr>\n",
       "    <tr>\n",
       "      <th>7</th>\n",
       "      <td>0.917850</td>\n",
       "      <td>3</td>\n",
       "      <td>007</td>\n",
       "    </tr>\n",
       "    <tr>\n",
       "      <th>8</th>\n",
       "      <td>0.984259</td>\n",
       "      <td>0</td>\n",
       "      <td>008</td>\n",
       "    </tr>\n",
       "    <tr>\n",
       "      <th>9</th>\n",
       "      <td>0.715357</td>\n",
       "      <td>0</td>\n",
       "      <td>009</td>\n",
       "    </tr>\n",
       "  </tbody>\n",
       "</table>\n",
       "</div>"
      ],
      "text/plain": [
       "      alpha  beta   id\n",
       "0  0.105326     0  000\n",
       "1  0.784304     2  001\n",
       "2  0.257489     1  002\n",
       "3  1.552975     1  003\n",
       "4  0.053229     3  004\n",
       "5  1.041070     4  005\n",
       "6  0.473513     0  006\n",
       "7  0.917850     3  007\n",
       "8  0.984259     0  008\n",
       "9  0.715357     0  009"
      ]
     },
     "execution_count": 5,
     "metadata": {},
     "output_type": "execute_result"
    }
   ],
   "source": [
    "pd.DataFrame(plan)"
   ]
  },
  {
   "cell_type": "markdown",
   "id": "purple-dealer",
   "metadata": {},
   "source": [
    "If we do not wish to automatically generate a sampling plan, we can also add sampling cases one by one with:"
   ]
  },
  {
   "cell_type": "code",
   "execution_count": 6,
   "id": "d20d62af",
   "metadata": {},
   "outputs": [
    {
     "name": "stdout",
     "output_type": "stream",
     "text": [
      "{'alpha': 1, 'beta': -0.5, 'id': '010'}\n"
     ]
    }
   ],
   "source": [
    "plan = sp.add_sampling_case(alpha=1, beta=-0.5)\n",
    "print(plan[-1])"
   ]
  },
  {
   "cell_type": "markdown",
   "id": "483121ff",
   "metadata": {},
   "source": [
    "Typically, we finish the process of generating the sampling plan by saving it to the disc. This is simply done with:\n",
    "```python\n",
    "sp.export(sampling_plan_name)\n",
    "```\n",
    "The save directory was already set with ``sp.data_dir = ...``."
   ]
  },
  {
   "cell_type": "markdown",
   "id": "alert-constraint",
   "metadata": {},
   "source": [
    "**Step 2:** Create the ``Sampler`` object by providing the ``sampling_plan``:\n",
    "\n",
    "<img src=\"./figures/sampling_concept_02_sampler.pdf\" width=\"60%\">"
   ]
  },
  {
   "cell_type": "code",
   "execution_count": 7,
   "id": "fancy-romance",
   "metadata": {},
   "outputs": [],
   "source": [
    "sampler = do_mpc.sampling.Sampler(plan)\n",
    "sampler.set_param(overwrite = True)"
   ]
  },
  {
   "cell_type": "markdown",
   "id": "another-spiritual",
   "metadata": {},
   "source": [
    "Most important settting of the sampler is the ``sample_function``. This function takes as arguments previously the defined ``sampling_var`` (from the configuration of the ``SamplingPlanner``).\n",
    "\n",
    "It this example, we create a dummy sampling generating function, where:\n",
    "\n",
    "$$\n",
    "f(\\alpha,\\beta) = \\alpha\\cdot\\beta\n",
    "$$"
   ]
  },
  {
   "cell_type": "code",
   "execution_count": 8,
   "id": "color-street",
   "metadata": {},
   "outputs": [],
   "source": [
    "def sample_function(alpha, beta):\n",
    "    time.sleep(0.1)\n",
    "    return alpha*beta\n",
    "\n",
    "sampler.set_sample_function(sample_function)"
   ]
  },
  {
   "cell_type": "markdown",
   "id": "5439fd9f",
   "metadata": {},
   "source": [
    "Before we sample, we want to set the directory for the created files and a name:"
   ]
  },
  {
   "cell_type": "code",
   "execution_count": 9,
   "id": "bcc0d0c1",
   "metadata": {},
   "outputs": [],
   "source": [
    "sampler.data_dir = './sampling_test/'\n",
    "sampler.set_param(sample_name = 'dummy_sample')"
   ]
  },
  {
   "cell_type": "markdown",
   "id": "international-oxford",
   "metadata": {},
   "source": [
    "Now we can actually create all the samples:"
   ]
  },
  {
   "cell_type": "code",
   "execution_count": 10,
   "id": "mathematical-upset",
   "metadata": {},
   "outputs": [
    {
     "name": "stdout",
     "output_type": "stream",
     "text": [
      "Progress: |██████████████████████████████████████████████████| 100.0% Complete\n"
     ]
    }
   ],
   "source": [
    "sampler.sample_data()"
   ]
  },
  {
   "cell_type": "markdown",
   "id": "silent-watch",
   "metadata": {},
   "source": [
    "The sampler will now create the sampling results as a new file for each result and store them in a subfolder with the same name as the ``sampling_plan``:"
   ]
  },
  {
   "cell_type": "code",
   "execution_count": 11,
   "id": "prescribed-riverside",
   "metadata": {
    "scrolled": true
   },
   "outputs": [
    {
     "data": {
      "text/plain": [
       "['dummy_sample_000.pkl',\n",
       " 'dummy_sample_001.pkl',\n",
       " 'dummy_sample_002.pkl',\n",
       " 'dummy_sample_003.pkl',\n",
       " 'dummy_sample_004.pkl',\n",
       " 'dummy_sample_005.pkl',\n",
       " 'dummy_sample_006.pkl',\n",
       " 'dummy_sample_007.pkl',\n",
       " 'dummy_sample_008.pkl',\n",
       " 'dummy_sample_009.pkl',\n",
       " 'dummy_sample_010.pkl',\n",
       " 'dummy_sample_011.pkl',\n",
       " 'dummy_sample_012.pkl']"
      ]
     },
     "execution_count": 11,
     "metadata": {},
     "output_type": "execute_result"
    }
   ],
   "source": [
    "ls = os.listdir('./sampling_test/')\n",
    "ls.sort()\n",
    "ls"
   ]
  },
  {
   "cell_type": "markdown",
   "id": "falling-lying",
   "metadata": {},
   "source": [
    "**Step 3:** Process data in the data handler class. \n",
    "\n",
    "<img src=\"./figures/sampling_concept_03_handler.pdf\" width=\"60%\">\n",
    "\n",
    "The first step is to initiate the class with the ``sampling_plan``:"
   ]
  },
  {
   "cell_type": "code",
   "execution_count": 12,
   "id": "fleet-norway",
   "metadata": {},
   "outputs": [],
   "source": [
    "dh = do_mpc.sampling.DataHandler(plan)"
   ]
  },
  {
   "cell_type": "markdown",
   "id": "0a7bca40",
   "metadata": {},
   "source": [
    "We then need to point out where the data is stored and how the samples are called:"
   ]
  },
  {
   "cell_type": "code",
   "execution_count": 13,
   "id": "951f40bf",
   "metadata": {},
   "outputs": [],
   "source": [
    "dh.data_dir = './sampling_test/'\n",
    "dh.set_param(sample_name = 'dummy_sample')"
   ]
  },
  {
   "cell_type": "markdown",
   "id": "grateful-feelings",
   "metadata": {},
   "source": [
    "Next, we define the post-processing functions. For this toy example we do some \"dummy\" post-processing and request to compute two results:"
   ]
  },
  {
   "cell_type": "code",
   "execution_count": 14,
   "id": "current-characteristic",
   "metadata": {},
   "outputs": [],
   "source": [
    "dh.set_post_processing('res_1', lambda x: x)\n",
    "dh.set_post_processing('res_2', lambda x: x**2)"
   ]
  },
  {
   "cell_type": "markdown",
   "id": "juvenile-district",
   "metadata": {},
   "source": [
    "The interface of ``DataHandler.set_post_processing`` requires a name that we will see again later and a function that processes the output of the previously defined ``sample_function``."
   ]
  },
  {
   "cell_type": "markdown",
   "id": "worst-tucson",
   "metadata": {},
   "source": [
    "We can now obtain **obtain processed data** from the ``DataHandler`` in two ways. Note that we convert the returned list of dictionaries directly to a ``DataFrame`` for a better visualization.\n",
    "\n",
    "**1. Indexing**:"
   ]
  },
  {
   "cell_type": "code",
   "execution_count": 15,
   "id": "cloudy-investigation",
   "metadata": {
    "scrolled": true
   },
   "outputs": [
    {
     "data": {
      "text/html": [
       "<div>\n",
       "<style scoped>\n",
       "    .dataframe tbody tr th:only-of-type {\n",
       "        vertical-align: middle;\n",
       "    }\n",
       "\n",
       "    .dataframe tbody tr th {\n",
       "        vertical-align: top;\n",
       "    }\n",
       "\n",
       "    .dataframe thead th {\n",
       "        text-align: right;\n",
       "    }\n",
       "</style>\n",
       "<table border=\"1\" class=\"dataframe\">\n",
       "  <thead>\n",
       "    <tr style=\"text-align: right;\">\n",
       "      <th></th>\n",
       "      <th>alpha</th>\n",
       "      <th>beta</th>\n",
       "      <th>id</th>\n",
       "      <th>res_1</th>\n",
       "      <th>res_2</th>\n",
       "    </tr>\n",
       "  </thead>\n",
       "  <tbody>\n",
       "    <tr>\n",
       "      <th>0</th>\n",
       "      <td>0.105326</td>\n",
       "      <td>0</td>\n",
       "      <td>000</td>\n",
       "      <td>0.000000</td>\n",
       "      <td>0.000000</td>\n",
       "    </tr>\n",
       "    <tr>\n",
       "      <th>1</th>\n",
       "      <td>0.784304</td>\n",
       "      <td>2</td>\n",
       "      <td>001</td>\n",
       "      <td>1.568608</td>\n",
       "      <td>2.460532</td>\n",
       "    </tr>\n",
       "    <tr>\n",
       "      <th>2</th>\n",
       "      <td>0.257489</td>\n",
       "      <td>1</td>\n",
       "      <td>002</td>\n",
       "      <td>0.257489</td>\n",
       "      <td>0.066301</td>\n",
       "    </tr>\n",
       "  </tbody>\n",
       "</table>\n",
       "</div>"
      ],
      "text/plain": [
       "      alpha  beta   id     res_1     res_2\n",
       "0  0.105326     0  000  0.000000  0.000000\n",
       "1  0.784304     2  001  1.568608  2.460532\n",
       "2  0.257489     1  002  0.257489  0.066301"
      ]
     },
     "execution_count": 15,
     "metadata": {},
     "output_type": "execute_result"
    }
   ],
   "source": [
    "pd.DataFrame(dh[:3])"
   ]
  },
  {
   "cell_type": "markdown",
   "id": "saving-accessory",
   "metadata": {},
   "source": [
    "Or we use a more complex filter with the ``DataHandler.filter`` method. This method requires either an input or an output filter in the form of a function.\n",
    "\n",
    "Let's retrieve all samples, where $\\alpha < 0$:"
   ]
  },
  {
   "cell_type": "code",
   "execution_count": 16,
   "id": "smaller-letter",
   "metadata": {},
   "outputs": [
    {
     "data": {
      "text/html": [
       "<div>\n",
       "<style scoped>\n",
       "    .dataframe tbody tr th:only-of-type {\n",
       "        vertical-align: middle;\n",
       "    }\n",
       "\n",
       "    .dataframe tbody tr th {\n",
       "        vertical-align: top;\n",
       "    }\n",
       "\n",
       "    .dataframe thead th {\n",
       "        text-align: right;\n",
       "    }\n",
       "</style>\n",
       "<table border=\"1\" class=\"dataframe\">\n",
       "  <thead>\n",
       "    <tr style=\"text-align: right;\">\n",
       "      <th></th>\n",
       "    </tr>\n",
       "  </thead>\n",
       "  <tbody>\n",
       "  </tbody>\n",
       "</table>\n",
       "</div>"
      ],
      "text/plain": [
       "Empty DataFrame\n",
       "Columns: []\n",
       "Index: []"
      ]
     },
     "execution_count": 16,
     "metadata": {},
     "output_type": "execute_result"
    }
   ],
   "source": [
    "pd.DataFrame(dh.filter(input_filter = lambda alpha: alpha<0))"
   ]
  },
  {
   "cell_type": "markdown",
   "id": "pretty-price",
   "metadata": {},
   "source": [
    "Or we can filter by outputs, e.g. with: "
   ]
  },
  {
   "cell_type": "code",
   "execution_count": 17,
   "id": "sixth-defeat",
   "metadata": {},
   "outputs": [
    {
     "data": {
      "text/html": [
       "<div>\n",
       "<style scoped>\n",
       "    .dataframe tbody tr th:only-of-type {\n",
       "        vertical-align: middle;\n",
       "    }\n",
       "\n",
       "    .dataframe tbody tr th {\n",
       "        vertical-align: top;\n",
       "    }\n",
       "\n",
       "    .dataframe thead th {\n",
       "        text-align: right;\n",
       "    }\n",
       "</style>\n",
       "<table border=\"1\" class=\"dataframe\">\n",
       "  <thead>\n",
       "    <tr style=\"text-align: right;\">\n",
       "      <th></th>\n",
       "      <th>alpha</th>\n",
       "      <th>beta</th>\n",
       "      <th>id</th>\n",
       "      <th>res_1</th>\n",
       "      <th>res_2</th>\n",
       "    </tr>\n",
       "  </thead>\n",
       "  <tbody>\n",
       "    <tr>\n",
       "      <th>0</th>\n",
       "      <td>1.04107</td>\n",
       "      <td>4</td>\n",
       "      <td>005</td>\n",
       "      <td>4.164281</td>\n",
       "      <td>17.341236</td>\n",
       "    </tr>\n",
       "  </tbody>\n",
       "</table>\n",
       "</div>"
      ],
      "text/plain": [
       "     alpha  beta   id     res_1      res_2\n",
       "0  1.04107     4  005  4.164281  17.341236"
      ]
     },
     "execution_count": 17,
     "metadata": {},
     "output_type": "execute_result"
    }
   ],
   "source": [
    "pd.DataFrame(dh.filter(output_filter = lambda res_2: res_2>10))"
   ]
  },
  {
   "cell_type": "markdown",
   "id": "individual-official",
   "metadata": {},
   "source": [
    "## Sampling closed-loop trajectories\n",
    "\n",
    "A more reasonable use-case in the scope of **do-mpc** is to sample closed-loop trajectories of a dynamical system with a (MPC) controller. \n",
    "\n",
    "The approach is almost identical to our toy example above. The main difference lies in the ``sample_function`` that is passed to the ``Sampler`` and the ``post_processing`` in the ``DataHandler``.\n",
    "\n",
    "In the presented example, we will sample the oscillating mass system which is part of the do-mpc example library. "
   ]
  },
  {
   "cell_type": "code",
   "execution_count": 18,
   "id": "atmospheric-wrestling",
   "metadata": {},
   "outputs": [],
   "source": [
    "sys.path.append('../../../examples/oscillating_masses_discrete/')\n",
    "from template_model import template_model\n",
    "from template_mpc import template_mpc\n",
    "from template_simulator import template_simulator"
   ]
  },
  {
   "cell_type": "markdown",
   "id": "departmental-surge",
   "metadata": {},
   "source": [
    "**Step 1:** Create the ``sampling plan`` with the ``SamplingPlanner``\n",
    "\n",
    "We want to generate various closed-loop trajectories of the system starting from random initial states, hence we design the ``SamplingPlanner`` as follows:"
   ]
  },
  {
   "cell_type": "code",
   "execution_count": 19,
   "id": "pregnant-bristol",
   "metadata": {},
   "outputs": [],
   "source": [
    "# Initialize sampling planner\n",
    "sp = do_mpc.sampling.SamplingPlanner()\n",
    "sp.set_param(overwrite=True)\n",
    "\n",
    "# Sample random feasible initial states\n",
    "def gen_initial_states():\n",
    "    \n",
    "    x0 = np.random.uniform(-3*np.ones((4,1)),3*np.ones((4,1)))\n",
    "    \n",
    "    return x0\n",
    "\n",
    "# Add sampling variable including the corresponding evaluation function\n",
    "sp.set_sampling_var('X0', gen_initial_states)"
   ]
  },
  {
   "cell_type": "markdown",
   "id": "third-luxury",
   "metadata": {},
   "source": [
    "This implementation is sufficient to generate the sampling plan:"
   ]
  },
  {
   "cell_type": "code",
   "execution_count": 20,
   "id": "buried-worthy",
   "metadata": {},
   "outputs": [],
   "source": [
    "plan = sp.gen_sampling_plan(n_samples=9)"
   ]
  },
  {
   "cell_type": "markdown",
   "id": "realistic-sunglasses",
   "metadata": {},
   "source": [
    "Since we want to run the system in the closed-loop in our sample function, we need to load the corresponding configuration:"
   ]
  },
  {
   "cell_type": "code",
   "execution_count": 21,
   "id": "voluntary-customer",
   "metadata": {},
   "outputs": [],
   "source": [
    "model = template_model()\n",
    "mpc = template_mpc(model)\n",
    "estimator = do_mpc.estimator.StateFeedback(model)\n",
    "simulator = template_simulator(model)"
   ]
  },
  {
   "cell_type": "markdown",
   "id": "analyzed-pride",
   "metadata": {},
   "source": [
    "We can now define the sampling function:"
   ]
  },
  {
   "cell_type": "code",
   "execution_count": 22,
   "id": "sublime-operator",
   "metadata": {},
   "outputs": [],
   "source": [
    "def run_closed_loop(X0):\n",
    "    mpc.reset_history()\n",
    "    simulator.reset_history()\n",
    "    estimator.reset_history()\n",
    "\n",
    "    # set initial values and guess\n",
    "    x0 = X0\n",
    "    mpc.x0 = x0\n",
    "    simulator.x0 = x0\n",
    "    estimator.x0 = x0\n",
    "\n",
    "    mpc.set_initial_guess()\n",
    "\n",
    "    # run the closed loop for 150 steps\n",
    "    for k in range(100):\n",
    "        u0 = mpc.make_step(x0)\n",
    "        y_next = simulator.make_step(u0)       \n",
    "        x0 = estimator.make_step(y_next)\n",
    "\n",
    "    # we return the complete data structure that we have obtained during the closed-loop run\n",
    "    return simulator.data"
   ]
  },
  {
   "cell_type": "markdown",
   "id": "earlier-exemption",
   "metadata": {},
   "source": [
    "Now we have all the ingredients to make our sampler:"
   ]
  },
  {
   "cell_type": "code",
   "execution_count": 23,
   "id": "significant-appendix",
   "metadata": {
    "scrolled": true
   },
   "outputs": [],
   "source": [
    "%%capture\n",
    "# Initialize sampler with generated plan\n",
    "sampler = do_mpc.sampling.Sampler(plan)\n",
    "# Set directory to store the results:\n",
    "sampler.data_dir = './sampling_closed_loop/'\n",
    "sampler.set_param(overwrite=True)\n",
    "\n",
    "# Set the sampling function\n",
    "sampler.set_sample_function(run_closed_loop)\n",
    "\n",
    "# Generate the data\n",
    "sampler.sample_data()"
   ]
  },
  {
   "cell_type": "markdown",
   "id": "aggressive-techno",
   "metadata": {},
   "source": [
    "**Step 3:** Process data in the data handler class. The first step is to initiate the class with the ``sampling_plan``:"
   ]
  },
  {
   "cell_type": "code",
   "execution_count": 24,
   "id": "variable-hurricane",
   "metadata": {},
   "outputs": [],
   "source": [
    "# Initialize DataHandler\n",
    "dh = do_mpc.sampling.DataHandler(plan)\n",
    "dh.data_dir = './sampling_closed_loop/'"
   ]
  },
  {
   "cell_type": "markdown",
   "id": "guided-possible",
   "metadata": {},
   "source": [
    "In this case, we are interested in the states and the inputs of all trajectories. We define the following post processing functions:"
   ]
  },
  {
   "cell_type": "code",
   "execution_count": 25,
   "id": "careful-repair",
   "metadata": {},
   "outputs": [],
   "source": [
    "dh.set_post_processing('input', lambda data: data['_u', 'u'])\n",
    "dh.set_post_processing('state', lambda data: data['_x', 'x'])"
   ]
  },
  {
   "cell_type": "markdown",
   "id": "sorted-fashion",
   "metadata": {},
   "source": [
    "To retrieve all post-processed data from the datahandler we use slicing. The result is stored in ``res``."
   ]
  },
  {
   "cell_type": "code",
   "execution_count": 26,
   "id": "sufficient-awareness",
   "metadata": {},
   "outputs": [],
   "source": [
    "res = dh[:]"
   ]
  },
  {
   "cell_type": "markdown",
   "id": "081e5fcd",
   "metadata": {},
   "source": [
    "To inspect the sampled closed-loop trajectories, we create an array of plots where in each plot $x_2$ is plotted over $x_1$. This shows the different behavior, based on the sampled initial conditions:"
   ]
  },
  {
   "cell_type": "code",
   "execution_count": 27,
   "id": "5945d979",
   "metadata": {
    "scrolled": false
   },
   "outputs": [
    {
     "data": {
      "image/png": "[encoded data removed]",
      "text/plain": [
       "<Figure size 576x576 with 9 Axes>"
      ]
     },
     "metadata": {
      "needs_background": "light"
     },
     "output_type": "display_data"
    }
   ],
   "source": [
    "n_res = min(len(res),80)\n",
    "\n",
    "n_row = int(np.ceil(np.sqrt(n_res)))\n",
    "n_col = int(np.ceil(n_res/n_row))\n",
    "\n",
    "\n",
    "fig, ax = plt.subplots(n_row, n_col, sharex=True, sharey=True, figsize=(8,8))\n",
    "for i, res_i in enumerate(res):\n",
    "    ax[i//n_col, np.mod(i,n_col)].plot(res_i['state'][:,1],res_i['state'][:,0])\n",
    "    \n",
    "for i in range(ax.size):\n",
    "    ax[i//n_col, np.mod(i,n_col)].axis('off')\n",
    "\n",
    "    \n",
    "    \n",
    "fig.tight_layout(pad=0)"
   ]
  }
 ],
 "metadata": {
  "kernelspec": {
   "display_name": "appx_mpc",
   "language": "python",
   "name": "python3"
  },
  "language_info": {
   "codemirror_mode": {
    "name": "ipython",
    "version": 3
   },
   "file_extension": ".py",
   "mimetype": "text/x-python",
   "name": "python",
   "nbconvert_exporter": "python",
   "pygments_lexer": "ipython3",
   "version": "3.11.10"
  }
 },
 "nbformat": 4,
 "nbformat_minor": 5
}
