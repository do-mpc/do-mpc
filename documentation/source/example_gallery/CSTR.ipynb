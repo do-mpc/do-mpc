{
 "cells": [
  {
   "cell_type": "markdown",
   "metadata": {},
   "source": [
    "# Continuous stirred tank reactor (CSTR)\n",
    "\n",
    "In this Jupyter Notebook we illustrate the example **CSTR**.\n",
    "\n",
    "**Open an interactive online Jupyter Notebook with this content on Binder:**\n",
    "\n",
    "[![Binder](https://mybinder.org/badge_logo.svg)](https://mybinder.org/v2/gh/do-mpc/do-mpc.git/master?filepath=%2Fdocumentation%2Fsource%2Fexample_gallery%2FCSTR.ipynb)\n",
    "\n",
    "The example consists of the three modules **template_model.py**, which describes the system model, **template_mpc.py**, which defines the settings for the control and **template_simulator.py**, which sets the parameters for the simulator.\n",
    "The modules are used in **main.py** for the closed-loop execution of the controller.\n",
    "The file **post_processing.py** is used for the visualization of the closed-loop control run.\n",
    "One exemplary result will be presented at the end of this tutorial as a gif.\n",
    "\n",
    "In the following the different parts are presented. But first, we start by importing basic modules and **do-mpc**."
   ]
  },
  {
   "cell_type": "code",
   "execution_count": null,
   "metadata": {},
   "outputs": [],
   "source": [
    "import numpy as np\n",
    "import sys\n",
    "from casadi import *\n",
    "\n",
    "# Add do_mpc to path. This is not necessary if it was installed via pip\n",
    "import os\n",
    "rel_do_mpc_path = os.path.join('..','..','..')\n",
    "sys.path.append(rel_do_mpc_path)\n",
    "\n",
    "# Import do_mpc package:\n",
    "import do_mpc\n",
    "\n",
    "import matplotlib.pyplot as plt"
   ]
  },
  {
   "cell_type": "markdown",
   "metadata": {},
   "source": [
    "## Model"
   ]
  },
  {
   "cell_type": "markdown",
   "metadata": {},
   "source": [
    "In the following we will present the configuration, setup and connection between these blocks, starting with the `model`.\n",
    "The considered model of the CSTR is continuous and has 4 states and 2 control inputs.\n",
    "The model is initiated by:"
   ]
  },
  {
   "cell_type": "code",
   "execution_count": null,
   "metadata": {},
   "outputs": [],
   "source": [
    "model_type = 'continuous' # either 'discrete' or 'continuous'\n",
    "model = do_mpc.model.Model(model_type)"
   ]
  },
  {
   "cell_type": "markdown",
   "metadata": {},
   "source": [
    "### States and control inputs\n",
    "\n",
    "The four states are concentration of reactant A ($C_{\\text{A}}$), the concentration of reactant B ($C_{\\text{B}}$), the temperature inside the reactor ($T_{\\text{R}}$) and the temperature of the cooling jacket ($T_{\\text{K}}$):"
   ]
  },
  {
   "cell_type": "code",
   "execution_count": null,
   "metadata": {},
   "outputs": [],
   "source": [
    "# States struct (optimization variables):\n",
    "C_a = model.set_variable(var_type='_x', var_name='C_a', shape=(1,1))\n",
    "C_b = model.set_variable(var_type='_x', var_name='C_b', shape=(1,1))\n",
    "T_R = model.set_variable(var_type='_x', var_name='T_R', shape=(1,1))\n",
    "T_K = model.set_variable(var_type='_x', var_name='T_K', shape=(1,1))"
   ]
  },
  {
   "cell_type": "markdown",
   "metadata": {},
   "source": [
    "The control inputs are the feed $F$ and the heat flow $\\dot{Q}$:"
   ]
  },
  {
   "cell_type": "code",
   "execution_count": null,
   "metadata": {},
   "outputs": [],
   "source": [
    "# Input struct (optimization variables):\n",
    "F = model.set_variable(var_type='_u', var_name='F')\n",
    "Q_dot = model.set_variable(var_type='_u', var_name='Q_dot')"
   ]
  },
  {
   "attachments": {},
   "cell_type": "markdown",
   "metadata": {},
   "source": [
    "### ODE and parameters\n",
    "\n",
    "The system model is described by the ordinary differential equation:\n",
    "\n",
    "\\begin{align}\n",
    "\\dot{C}_{\\text{A}} &= F \\cdot (C_{\\text{A},0} - C_{\\text{A}}) - k_1 \\cdot C_{\\text{A}} - k_3 \\cdot C_{\\text{A}}^2, \\\\\n",
    "\\dot{C}_{\\text{B}} &= -F \\cdot C_{\\text{B}} + k_1 \\cdot C_{\\text{A}} - k_2 \\cdot C_{\\text{B}}, \\\\\n",
    "\\dot{T}_{\\text{R}} &= \\frac{k_1 \\cdot C_{\\text{A}} \\cdot H_{\\text{R},ab} + k_2 \\cdot C_{\\text{B}} \\cdot  H_{\\text{R},bc} + k_3 \\cdot C_{\\text{A}}^2 \\cdot H_{\\text{R},ad}} {-\\rho \\cdot c_p}\\\\\n",
    "&+ F \\cdot (T_{\\text{in}} - T_{\\text{R}}) + \\frac{K_w \\cdot A_{\\text{R}} \\cdot(T_{\\text{K}}-T_{\\text{R}})}{\\rho \\cdot c_p \\cdot V_{\\text{R}}}, \\\\\n",
    "\\dot{T}_{\\text{K}} &= \\frac{\\dot{Q} + K_w \\cdot A_{\\text{R}} \\cdot T_{\\text{dif}}}{m_k \\cdot C_{p,k}},\n",
    "\\end{align}\n",
    "\n",
    "where\n",
    "\n",
    "\\begin{align}\n",
    "k_1 &= \\beta \\cdot k_{0,\\text{ab}} \\cdot \\exp\\left(\\frac{-E_{\\text{A},\\text{ab}}}{T_{\\text{R}}+273.15}\\right), \\\\\n",
    "k_2 &= k_{0,\\text{bc}} \\cdot \\exp \\left( \\frac{-E_{\\text{A},\\text{bc}}}{T_{\\text{R}}+273.15} \\right), \\\\\n",
    "k_3 &= k_{0,\\text{ad}} \\cdot \\exp \\left( \\frac{-\\alpha \\cdot E_{\\text{A},\\text{ad}}}{T_{\\text{R}}+273.15} \\right).\n",
    "\\end{align}\n",
    "\n",
    "The \n",
    "parameters $\\alpha$ and $\\beta$ are uncertain while the rest of the parameters is considered certain:"
   ]
  },
  {
   "cell_type": "code",
   "execution_count": null,
   "metadata": {},
   "outputs": [],
   "source": [
    "# Certain parameters\n",
    "K0_ab = 1.287e12 # K0 [h^-1]\n",
    "K0_bc = 1.287e12 # K0 [h^-1]\n",
    "K0_ad = 9.043e9 # K0 [l/mol.h]\n",
    "R_gas = 8.3144621e-3 # Universal gas constant\n",
    "E_A_ab = 9758.3*1.00 #* R_gas# [kj/mol]\n",
    "E_A_bc = 9758.3*1.00 #* R_gas# [kj/mol]\n",
    "E_A_ad = 8560.0*1.0 #* R_gas# [kj/mol]\n",
    "H_R_ab = 4.2 # [kj/mol A]\n",
    "H_R_bc = -11.0 # [kj/mol B] Exothermic\n",
    "H_R_ad = -41.85 # [kj/mol A] Exothermic\n",
    "Rou = 0.9342 # Density [kg/l]\n",
    "Cp = 3.01 # Specific Heat capacity [kj/Kg.K]\n",
    "Cp_k = 2.0 # Coolant heat capacity [kj/kg.k]\n",
    "A_R = 0.215 # Area of reactor wall [m^2]\n",
    "V_R = 10.01 #0.01 # Volume of reactor [l]\n",
    "m_k = 5.0 # Coolant mass[kg]\n",
    "T_in = 130.0 # Temp of inflow [Celsius]\n",
    "K_w = 4032.0 # [kj/h.m^2.K]\n",
    "C_A0 = (5.7+4.5)/2.0*1.0 # Concentration of A in input Upper bound 5.7 lower bound 4.5 [mol/l]\n",
    "\n",
    "# Uncertain parameters:\n",
    "alpha = model.set_variable(var_type='_p', var_name='alpha')\n",
    "beta = model.set_variable(var_type='_p', var_name='beta')"
   ]
  },
  {
   "cell_type": "markdown",
   "metadata": {},
   "source": [
    "In the next step, we formulate the $k_i$-s:"
   ]
  },
  {
   "cell_type": "code",
   "execution_count": null,
   "metadata": {},
   "outputs": [],
   "source": [
    "# Auxiliary terms\n",
    "K_1 = beta * K0_ab * exp((-E_A_ab)/((T_R+273.15)))\n",
    "K_2 =  K0_bc * exp((-E_A_bc)/((T_R+273.15)))\n",
    "K_3 = K0_ad * exp((-alpha*E_A_ad)/((T_R+273.15)))"
   ]
  },
  {
   "cell_type": "markdown",
   "metadata": {},
   "source": [
    "Additionally, we define an artificial variable of interest, that is not a state of the system, but will be later used for plotting:"
   ]
  },
  {
   "cell_type": "code",
   "execution_count": null,
   "metadata": {},
   "outputs": [],
   "source": [
    "T_dif = model.set_expression(expr_name='T_dif', expr=T_R-T_K)"
   ]
  },
  {
   "cell_type": "markdown",
   "metadata": {},
   "source": [
    "WIth the help ot the $k_i$-s and $T_{\\text{dif}}$ we can define the ODEs:"
   ]
  },
  {
   "cell_type": "code",
   "execution_count": null,
   "metadata": {},
   "outputs": [],
   "source": [
    "model.set_rhs('C_a', F*(C_A0 - C_a) -K_1*C_a - K_3*(C_a**2))\n",
    "model.set_rhs('C_b', -F*C_b + K_1*C_a - K_2*C_b)\n",
    "model.set_rhs('T_R', ((K_1*C_a*H_R_ab + K_2*C_b*H_R_bc + K_3*(C_a**2)*H_R_ad)/(-Rou*Cp)) + F*(T_in-T_R) +(((K_w*A_R)*(-T_dif))/(Rou*Cp*V_R)))\n",
    "model.set_rhs('T_K', (Q_dot + K_w*A_R*(T_dif))/(m_k*Cp_k))"
   ]
  },
  {
   "cell_type": "markdown",
   "metadata": {},
   "source": [
    "Finally, the model setup is completed:"
   ]
  },
  {
   "cell_type": "code",
   "execution_count": null,
   "metadata": {},
   "outputs": [],
   "source": [
    "# Build the model\n",
    "model.setup()"
   ]
  },
  {
   "cell_type": "markdown",
   "metadata": {},
   "source": [
    "## Controller\n"
   ]
  },
  {
   "cell_type": "markdown",
   "metadata": {},
   "source": [
    "Next, the model predictive controller is configured.\n",
    "First, one member of the mpc class is generated with the prediction model defined above:"
   ]
  },
  {
   "cell_type": "code",
   "execution_count": null,
   "metadata": {},
   "outputs": [],
   "source": [
    "mpc = do_mpc.controller.MPC(model)"
   ]
  },
  {
   "cell_type": "markdown",
   "metadata": {},
   "source": [
    "We choose the prediction horizon `n_horizon`, set the robust horizon `n_robust` to 1. The time step `t_step` is set to one second and parameters of the applied discretization scheme orthogonal collocation are as seen below:"
   ]
  },
  {
   "cell_type": "code",
   "execution_count": null,
   "metadata": {},
   "outputs": [],
   "source": [
    "setup_mpc = {\n",
    "    'n_horizon': 20,\n",
    "    'n_robust': 1,\n",
    "    'open_loop': 0,\n",
    "    't_step': 0.005,\n",
    "    'state_discretization': 'collocation',\n",
    "    'collocation_type': 'radau',\n",
    "    'collocation_deg': 2,\n",
    "    'collocation_ni': 2,\n",
    "    'store_full_solution': True,\n",
    "    # Use MA27 linear solver in ipopt for faster calculations:\n",
    "    #'nlpsol_opts': {'ipopt.linear_solver': 'MA27'}\n",
    "}\n",
    "\n",
    "mpc.set_param(**setup_mpc)"
   ]
  },
  {
   "cell_type": "markdown",
   "metadata": {},
   "source": [
    "Because the magnitude of the states and inputs is very different, we introduce scaling factors:"
   ]
  },
  {
   "cell_type": "code",
   "execution_count": null,
   "metadata": {},
   "outputs": [],
   "source": [
    "mpc.scaling['_x', 'T_R'] = 100\n",
    "mpc.scaling['_x', 'T_K'] = 100\n",
    "mpc.scaling['_u', 'Q_dot'] = 2000\n",
    "mpc.scaling['_u', 'F'] = 100"
   ]
  },
  {
   "cell_type": "markdown",
   "metadata": {},
   "source": [
    "### Objective\n",
    "\n",
    "The goal of the CSTR is to obtain a mixture with a concentration of $C_{\\text{B,ref}} = 0.6$ mol/l.\n",
    "Additionally, we add a penalty on input changes for both control inputs, to obtain a smooth control performance."
   ]
  },
  {
   "cell_type": "code",
   "execution_count": null,
   "metadata": {},
   "outputs": [],
   "source": [
    "_x = model.x\n",
    "mterm = (_x['C_b'] - 0.6)**2 # terminal cost\n",
    "lterm = (_x['C_b'] - 0.6)**2 # stage cost\n",
    "\n",
    "mpc.set_objective(mterm=mterm, lterm=lterm)\n",
    "\n",
    "mpc.set_rterm(F=0.1, Q_dot = 1e-3) # input penalty"
   ]
  },
  {
   "cell_type": "markdown",
   "metadata": {},
   "source": [
    "### Constraints\n",
    "\n",
    "In the next step, the constraints of the control problem are set.\n",
    "In this case, there are only upper and lower bounds for each state and the input:"
   ]
  },
  {
   "cell_type": "code",
   "execution_count": null,
   "metadata": {},
   "outputs": [],
   "source": [
    "# lower bounds of the states\n",
    "mpc.bounds['lower', '_x', 'C_a'] = 0.1\n",
    "mpc.bounds['lower', '_x', 'C_b'] = 0.1\n",
    "mpc.bounds['lower', '_x', 'T_R'] = 50\n",
    "mpc.bounds['lower', '_x', 'T_K'] = 50\n",
    "\n",
    "# upper bounds of the states\n",
    "mpc.bounds['upper', '_x', 'C_a'] = 2\n",
    "mpc.bounds['upper', '_x', 'C_b'] = 2\n",
    "mpc.bounds['upper', '_x', 'T_K'] = 140\n",
    "\n",
    "# lower bounds of the inputs\n",
    "mpc.bounds['lower', '_u', 'F'] = 5\n",
    "mpc.bounds['lower', '_u', 'Q_dot'] = -8500\n",
    "\n",
    "# upper bounds of the inputs\n",
    "mpc.bounds['upper', '_u', 'F'] = 100\n",
    "mpc.bounds['upper', '_u', 'Q_dot'] = 0.0"
   ]
  },
  {
   "cell_type": "markdown",
   "metadata": {},
   "source": [
    "If a constraint is not critical, it is possible to implement it as a **soft** constraint.\n",
    "This means, that a small violation of the constraint does not render the optimization infeasible.\n",
    "Instead, a penalty term is added to the objective.\n",
    "**Soft** constraints can always be applied, if small violations can be accepted and it might even be necessary to apply MPC in a safe way (by avoiding avoiding numerical instabilities).\n",
    "In this case, we define the upper bounds of the reactor temperature as a **soft** constraint by using `mpc.set_nl_cons()`."
   ]
  },
  {
   "cell_type": "code",
   "execution_count": null,
   "metadata": {},
   "outputs": [
    {
     "data": {
      "text/plain": [
       "SX((T_R-eps_T_R))"
      ]
     },
     "execution_count": 15,
     "metadata": {},
     "output_type": "execute_result"
    }
   ],
   "source": [
    "mpc.set_nl_cons('T_R', _x['T_R'], ub=140, soft_constraint=True, penalty_term_cons=1e2)"
   ]
  },
  {
   "cell_type": "markdown",
   "metadata": {},
   "source": [
    "### Uncertain values\n",
    "\n",
    "The explicit values of the two uncertain parameters $\\alpha$ and $\\beta$, which are considered in the scenario tree, are given by:"
   ]
  },
  {
   "cell_type": "code",
   "execution_count": null,
   "metadata": {},
   "outputs": [],
   "source": [
    "alpha_var = np.array([1., 1.05, 0.95])\n",
    "beta_var = np.array([1., 1.1, 0.9])\n",
    "\n",
    "mpc.set_uncertainty_values(alpha = alpha_var, beta = beta_var)"
   ]
  },
  {
   "cell_type": "markdown",
   "metadata": {},
   "source": [
    "This means with `n_robust=1`, that 9 different scenarios are considered.\n",
    "The setup of the MPC controller is concluded by:"
   ]
  },
  {
   "cell_type": "code",
   "execution_count": null,
   "metadata": {},
   "outputs": [],
   "source": [
    "mpc.setup()"
   ]
  },
  {
   "cell_type": "markdown",
   "metadata": {},
   "source": [
    "## Estimator\n",
    "\n",
    "We assume, that all states can be directly measured (state-feedback):"
   ]
  },
  {
   "cell_type": "code",
   "execution_count": null,
   "metadata": {},
   "outputs": [],
   "source": [
    "estimator = do_mpc.estimator.StateFeedback(model)"
   ]
  },
  {
   "cell_type": "markdown",
   "metadata": {},
   "source": [
    "## Simulator\n",
    "\n",
    "To create a simulator in order to run the MPC in a closed-loop, we create an instance of the **do-mpc** simulator which is based on the same model:"
   ]
  },
  {
   "cell_type": "code",
   "execution_count": null,
   "metadata": {},
   "outputs": [],
   "source": [
    "simulator = do_mpc.simulator.Simulator(model)"
   ]
  },
  {
   "cell_type": "markdown",
   "metadata": {},
   "source": [
    "For the simulation, we use the same time step `t_step` as for the optimizer:"
   ]
  },
  {
   "cell_type": "code",
   "execution_count": null,
   "metadata": {},
   "outputs": [],
   "source": [
    "params_simulator = {\n",
    "    'integration_tool': 'cvodes',\n",
    "    'abstol': 1e-10,\n",
    "    'reltol': 1e-10,\n",
    "    't_step': 0.005\n",
    "}\n",
    "\n",
    "simulator.set_param(**params_simulator)"
   ]
  },
  {
   "cell_type": "markdown",
   "metadata": {},
   "source": [
    "### Realizations of uncertain parameters\n",
    "\n",
    "For the simulatiom, it is necessary to define the numerical realizations of the uncertain parameters in `p_num` and the time-varying parameters in `tvp_num`.\n",
    "First, we get the structure of the uncertain and time-varying parameters:"
   ]
  },
  {
   "cell_type": "code",
   "execution_count": null,
   "metadata": {},
   "outputs": [],
   "source": [
    "p_num = simulator.get_p_template()\n",
    "tvp_num = simulator.get_tvp_template()"
   ]
  },
  {
   "cell_type": "markdown",
   "metadata": {},
   "source": [
    "We define two functions which are called in each simulation step, which return the current realizations of the parameters, with respect to defined inputs (in this case `t_now`):"
   ]
  },
  {
   "cell_type": "code",
   "execution_count": null,
   "metadata": {},
   "outputs": [],
   "source": [
    "# function for time-varying parameters\n",
    "def tvp_fun(t_now):\n",
    "    return tvp_num\n",
    "\n",
    "# uncertain parameters\n",
    "p_num['alpha'] = 1\n",
    "p_num['beta'] = 1\n",
    "def p_fun(t_now):\n",
    "    return p_num"
   ]
  },
  {
   "cell_type": "markdown",
   "metadata": {},
   "source": [
    "These two custum functions are used in the simulation via:"
   ]
  },
  {
   "cell_type": "code",
   "execution_count": null,
   "metadata": {},
   "outputs": [],
   "source": [
    "simulator.set_tvp_fun(tvp_fun)\n",
    "simulator.set_p_fun(p_fun)"
   ]
  },
  {
   "cell_type": "markdown",
   "metadata": {},
   "source": [
    "By defining `p_fun` as above, the function will always return the value 1.0 for both $\\alpha$ and $\\beta$.\n",
    "To finish the configuration of the simulator, call:"
   ]
  },
  {
   "cell_type": "code",
   "execution_count": null,
   "metadata": {},
   "outputs": [],
   "source": [
    "simulator.setup()"
   ]
  },
  {
   "cell_type": "markdown",
   "metadata": {},
   "source": [
    "## Closed-loop simulation\n",
    "\n",
    "For the simulation of the MPC configured for the CSTR, we inspect the file **main.py**.\n",
    "We define the initial state of the system and set it for all parts of the closed-loop configuration:"
   ]
  },
  {
   "cell_type": "code",
   "execution_count": null,
   "metadata": {},
   "outputs": [],
   "source": [
    "# Set the initial state of mpc, simulator and estimator:\n",
    "C_a_0 = 0.8 # This is the initial concentration inside the tank [mol/l]\n",
    "C_b_0 = 0.5 # This is the controlled variable [mol/l]\n",
    "T_R_0 = 134.14 #[C]\n",
    "T_K_0 = 130.0 #[C]\n",
    "x0 = np.array([C_a_0, C_b_0, T_R_0, T_K_0]).reshape(-1,1)\n",
    "\n",
    "mpc.x0 = x0\n",
    "simulator.x0 = x0\n",
    "estimator.x0 = x0\n",
    "\n",
    "mpc.set_initial_guess()"
   ]
  },
  {
   "cell_type": "markdown",
   "metadata": {},
   "source": [
    "Now, we simulate the closed-loop for 50 steps (and suppress the output of the cell with the magic command `%%capture`):"
   ]
  },
  {
   "cell_type": "code",
   "execution_count": null,
   "metadata": {},
   "outputs": [],
   "source": [
    "%%capture\n",
    "for k in range(50):\n",
    "    u0 = mpc.make_step(x0)\n",
    "    y_next = simulator.make_step(u0)\n",
    "    x0 = estimator.make_step(y_next)"
   ]
  },
  {
   "cell_type": "markdown",
   "metadata": {},
   "source": [
    "## Animating the results\n",
    "\n",
    "To animate the results, we first configure the **do-mpc** graphics object, which is initiated with the respective data object:"
   ]
  },
  {
   "cell_type": "code",
   "execution_count": null,
   "metadata": {},
   "outputs": [],
   "source": [
    "mpc_graphics = do_mpc.graphics.Graphics(mpc.data)"
   ]
  },
  {
   "cell_type": "markdown",
   "metadata": {},
   "source": [
    "We quickly configure Matplotlib."
   ]
  },
  {
   "cell_type": "code",
   "execution_count": null,
   "metadata": {},
   "outputs": [],
   "source": [
    "from matplotlib import rcParams\n",
    "rcParams['axes.grid'] = True\n",
    "rcParams['font.size'] = 18"
   ]
  },
  {
   "cell_type": "markdown",
   "metadata": {},
   "source": [
    "We then create a figure, configure which lines to plot on which axis and add labels."
   ]
  },
  {
   "cell_type": "code",
   "execution_count": null,
   "metadata": {},
   "outputs": [],
   "source": [
    "%%capture\n",
    "fig, ax = plt.subplots(5, sharex=True, figsize=(16,12))\n",
    "# Configure plot:\n",
    "mpc_graphics.add_line(var_type='_x', var_name='C_a', axis=ax[0])\n",
    "mpc_graphics.add_line(var_type='_x', var_name='C_b', axis=ax[0])\n",
    "mpc_graphics.add_line(var_type='_x', var_name='T_R', axis=ax[1])\n",
    "mpc_graphics.add_line(var_type='_x', var_name='T_K', axis=ax[1])\n",
    "mpc_graphics.add_line(var_type='_aux', var_name='T_dif', axis=ax[2])\n",
    "mpc_graphics.add_line(var_type='_u', var_name='Q_dot', axis=ax[3])\n",
    "mpc_graphics.add_line(var_type='_u', var_name='F', axis=ax[4])\n",
    "ax[0].set_ylabel('c [mol/l]')\n",
    "ax[1].set_ylabel('T [K]')\n",
    "ax[2].set_ylabel('$\\Delta$ T [K]')\n",
    "ax[3].set_ylabel('Q [kW]')\n",
    "ax[4].set_ylabel('Flow [l/h]')\n",
    "ax[4].set_xlabel('time [h]')"
   ]
  },
  {
   "cell_type": "markdown",
   "metadata": {},
   "source": [
    "Some \"cosmetic\" modifications are easily achieved with the structure ``pred_lines`` and ``result_lines``."
   ]
  },
  {
   "cell_type": "code",
   "execution_count": null,
   "metadata": {},
   "outputs": [],
   "source": [
    "# Update properties for all prediction lines:\n",
    "for line_i in mpc_graphics.pred_lines.full:\n",
    "    line_i.set_linewidth(2)\n",
    "# Highlight nominal case:\n",
    "for line_i in np.sum(mpc_graphics.pred_lines['_x', :, :,0]):\n",
    "    line_i.set_linewidth(5)\n",
    "for line_i in np.sum(mpc_graphics.pred_lines['_u', :, :,0]):\n",
    "    line_i.set_linewidth(5)\n",
    "for line_i in np.sum(mpc_graphics.pred_lines['_aux', :, :,0]):\n",
    "    line_i.set_linewidth(5)\n",
    "\n",
    "# Add labels\n",
    "label_lines = mpc_graphics.result_lines['_x', 'C_a']+mpc_graphics.result_lines['_x', 'C_b']\n",
    "ax[0].legend(label_lines, ['C_a', 'C_b'])\n",
    "label_lines = mpc_graphics.result_lines['_x', 'T_R']+mpc_graphics.result_lines['_x', 'T_K']\n",
    "ax[1].legend(label_lines, ['T_R', 'T_K'])\n",
    "\n",
    "fig.align_ylabels()"
   ]
  },
  {
   "cell_type": "markdown",
   "metadata": {},
   "source": [
    "After importing the necessary package:"
   ]
  },
  {
   "cell_type": "code",
   "execution_count": null,
   "metadata": {},
   "outputs": [],
   "source": [
    "from matplotlib.animation import FuncAnimation, ImageMagickWriter"
   ]
  },
  {
   "cell_type": "markdown",
   "metadata": {},
   "source": [
    "We obtain the animation with:"
   ]
  },
  {
   "cell_type": "code",
   "execution_count": null,
   "metadata": {},
   "outputs": [
    {
     "name": "stdout",
     "output_type": "stream",
     "text": [
      "Writing frame: 49.\r"
     ]
    }
   ],
   "source": [
    "def update(t_ind):\n",
    "    print('Writing frame: {}.'.format(t_ind), end='\\r')\n",
    "    mpc_graphics.plot_results(t_ind=t_ind)\n",
    "    mpc_graphics.plot_predictions(t_ind=t_ind)\n",
    "    mpc_graphics.reset_axes()\n",
    "    lines = mpc_graphics.result_lines.full\n",
    "    return lines\n",
    "\n",
    "n_steps = mpc.data['_time'].shape[0]\n",
    "\n",
    "\n",
    "anim = FuncAnimation(fig, update, frames=n_steps, blit=True)\n",
    "\n",
    "gif_writer = ImageMagickWriter(fps=5)\n",
    "anim.save('anim_CSTR.gif', writer=gif_writer)"
   ]
  },
  {
   "cell_type": "markdown",
   "metadata": {},
   "source": [
    "![cstranim](anim_CSTR.gif \"cstr\")"
   ]
  },
  {
   "cell_type": "markdown",
   "metadata": {},
   "source": [
    "Recorded trajectories are shown as solid lines, whereas predictions are dashed. We highlight the nominal prediction with a thicker line."
   ]
  }
 ],
 "metadata": {
  "kernelspec": {
   "display_name": "ekf",
   "language": "python",
   "name": "python3"
  },
  "language_info": {
   "codemirror_mode": {
    "name": "ipython",
    "version": 3
   },
   "file_extension": ".py",
   "mimetype": "text/x-python",
   "name": "python",
   "nbconvert_exporter": "python",
   "pygments_lexer": "ipython3",
   "version": "3.9.21"
  },
  "toc": {
   "base_numbering": 1,
   "nav_menu": {},
   "number_sections": true,
   "sideBar": true,
   "skip_h1_title": false,
   "title_cell": "Table of Contents",
   "title_sidebar": "Contents",
   "toc_cell": false,
   "toc_position": {},
   "toc_section_display": true,
   "toc_window_display": false
  }
 },
 "nbformat": 4,
 "nbformat_minor": 2
}
