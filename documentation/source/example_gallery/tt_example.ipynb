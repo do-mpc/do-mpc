{
 "cells": [
  {
   "cell_type": "markdown",
   "metadata": {},
   "source": [
    "# Triple Tank System\n",
    "\n",
    "In this Jupyter Notebook we illustrate the example **Triple Tank**.\n",
    "\n",
    "The example consists of the three modules **template_model.py**, which describes the system model and **template_simulator.py**, which sets the parameters for the simulator.\n",
    "The modules are used in **main.py** for simulation of the plant.\n",
    "One exemplary result will be presented at the end of this tutorial as a gif.\n",
    "\n",
    "In the following the different parts are presented. But first, we start by importing basic modules and **do-mpc**."
   ]
  },
  {
   "cell_type": "code",
   "execution_count": 1,
   "metadata": {},
   "outputs": [
    {
     "name": "stderr",
     "output_type": "stream",
     "text": [
      "/Users/sourjyanaskar/Library/CloudStorage/OneDrive-Personal/tu_d/PAS/Work/do-mpc-naskar/documentation/source/example_gallery/../../../do_mpc/estimator/_ekf.py:226: SyntaxWarning: \"is\" with a literal. Did you mean \"==\"?\n",
      "  if self.model.model_type is 'continuous':\n",
      "/Users/sourjyanaskar/Library/CloudStorage/OneDrive-Personal/tu_d/PAS/Work/do-mpc-naskar/documentation/source/example_gallery/../../../do_mpc/sysid/__init__.py:15: UserWarning: The ONNX feature is not available. Please install the full version of do-mpc to access this feature.\n",
      "  warnings.warn('The ONNX feature is not available. Please install the full version of do-mpc to access this feature.')\n",
      "/Users/sourjyanaskar/Library/CloudStorage/OneDrive-Personal/tu_d/PAS/Work/do-mpc-naskar/documentation/source/example_gallery/../../../do_mpc/opcua/__init__.py:14: UserWarning: The opcua feature is not available. Please install the full version of do-mpc to access this feature.\n",
      "  warnings.warn('The opcua feature is not available. Please install the full version of do-mpc to access this feature.')\n"
     ]
    }
   ],
   "source": [
    "from casadi import *\n",
    "\n",
    "# Add do_mpc to path. This is not necessary if it was installed via pip\n",
    "rel_do_mpc_path = os.path.join('..','..','..')\n",
    "sys.path.append(rel_do_mpc_path)\n",
    "\n",
    "# Import do_mpc package:\n",
    "import do_mpc\n",
    "\n",
    "# import other necessary packages\n",
    "import numpy as np\n",
    "import matplotlib.pyplot as plt"
   ]
  },
  {
   "cell_type": "markdown",
   "metadata": {},
   "source": [
    "## Example Description\n",
    "In this exercise, we will perform state estimation of a triple tank systems using an Extended Kalman Filter (EKF) as shown in the following diagram<span class=\"graffiti-highlight graffiti-id_tgqkk3x-id_23yzj32\"><i></i></span> [[1]](https://ieeexplore.ieee.org/stamp/stamp.jsp?arnumber=8879526).\n",
    "\n",
    "\n",
    "\n",
    "\n",
    "<img src=\"./three_tank_system.png\" style=\"width: 60%;\" align=\"center\"/>\n",
    "\n",
    "\n",
    "The plant consists of three tanks with a cross-sectional area $A$. They are connected serially together through connecting pipes with cross-sectional area $S_{p}$. The input to the system is through two pumps. The flow of both pumps is assumed to be **constant**. Our states ($x_1$, $x_2$, and $x_3$) are the level of water in each of the tanks. We assume the water level in tank three is measured. The water level in each of the tanks can be described by the following equations."
   ]
  },
  {
   "cell_type": "markdown",
   "metadata": {},
   "source": [
    "\\begin{align}\n",
    "\\frac{dx_1}{dt} &= \\frac{-q_{13}(k)+u_1(k)}{A} \\\\\n",
    "\\frac{dx_2}{dt} &= \\frac{q_{32}(k)-q_{20}+u_2(k)}{A} \\\\\n",
    "\\frac{dx_3}{dt} &= \\frac{q_{13}(k)-q_{32}}{A} \\\\\n",
    "\\end{align}"
   ]
  },
  {
   "cell_type": "markdown",
   "metadata": {},
   "source": [
    "where, \n",
    "\n",
    "\\begin{align}\n",
    "q_{13}(k) &= r_{1}S_{p}Sign(x_1(k)-x_3(k))\\sqrt{2g|x_1(k)-x_3(k)|} \\\\\n",
    "q_{32}(k) &= r_3S_pSign(x_3(k)-x_2(k))\\sqrt{2g|x_3(k)-x_2(k)|} \\\\\n",
    "q_{20}(k) &= r_2S_p\\sqrt{2gx_2(k)} \\\\\n",
    "\\end{align}"
   ]
  },
  {
   "cell_type": "markdown",
   "metadata": {},
   "source": [
    "The cross-sectional area A of the three tanks is $0.00154$ $m^2$. The outflow coefficients $r_i$ of the pipes are 1, 0.8, and 1 respectively. The connecting pipes are assumed to have a cross-sectional area of $S_p = 5\\times10^{-5}$. The flow rate of both pumps is $u_1=u_2=1\\times 10^{-4}$. The sampling time $T_s$ is fixed for one second.\\\n",
    "\\\n",
    "**Note**: $q_{1f}$ and $q_{2f}$ are disturbances to the plant and are assumed to be zero. "
   ]
  },
  {
   "cell_type": "markdown",
   "metadata": {},
   "source": [
    "## Continious"
   ]
  },
  {
   "cell_type": "markdown",
   "metadata": {},
   "source": [
    "### Model"
   ]
  },
  {
   "cell_type": "markdown",
   "metadata": {},
   "source": [
    "In the following we will present the configuration, setup and connection between these blocks, starting with the `model`.\n",
    "The considered model of the Triple Tank is discrete and has 3 states and 2 control inputs.\n",
    "The model is initiated by:"
   ]
  },
  {
   "cell_type": "code",
   "execution_count": 2,
   "metadata": {},
   "outputs": [],
   "source": [
    "# model type\n",
    "model_type = 'continuous'\n",
    "\n",
    "# initialisation of model\n",
    "continuous_model = do_mpc.model.Model(model_type=model_type, symvar_type='SX')"
   ]
  },
  {
   "cell_type": "markdown",
   "metadata": {},
   "source": [
    "#### States and control inputs\n",
    "\n",
    "The three states are height of tank 1 ($x_{\\text{1}}$), the height of tank 2 ($x_{\\text{2}}$), the height of tank 3 ($x_{\\text{3}}$):"
   ]
  },
  {
   "cell_type": "code",
   "execution_count": 3,
   "metadata": {},
   "outputs": [],
   "source": [
    "# states\n",
    "x1 = continuous_model.set_variable(var_type='_x', var_name='x1')\n",
    "x2 = continuous_model.set_variable(var_type='_x', var_name='x2')\n",
    "x3 = continuous_model.set_variable(var_type='_x', var_name='x3')"
   ]
  },
  {
   "cell_type": "markdown",
   "metadata": {},
   "source": [
    "The control inputs are the flowrate to tank 1 ($u_{\\text{1}}$) and the flowrate to tank 2 ($u_{\\text{2}}$):"
   ]
  },
  {
   "cell_type": "code",
   "execution_count": 4,
   "metadata": {},
   "outputs": [],
   "source": [
    "# inputs\n",
    "u1 = continuous_model.set_variable(var_type='_u', var_name='u1')\n",
    "u2 = continuous_model.set_variable(var_type='_u', var_name='u2')"
   ]
  },
  {
   "cell_type": "markdown",
   "metadata": {},
   "source": [
    "In this example only the height of tank 3 ($x_{\\text{3}}$) is measured:"
   ]
  },
  {
   "cell_type": "code",
   "execution_count": 5,
   "metadata": {},
   "outputs": [
    {
     "data": {
      "text/plain": [
       "SX((x3+x3_meas_noise))"
      ]
     },
     "execution_count": 5,
     "metadata": {},
     "output_type": "execute_result"
    }
   ],
   "source": [
    "# State measurements\n",
    "continuous_model.set_meas('x3_meas', x3)"
   ]
  },
  {
   "cell_type": "markdown",
   "metadata": {},
   "source": [
    "The fixed parameters are stored here as per the description:"
   ]
  },
  {
   "cell_type": "code",
   "execution_count": 6,
   "metadata": {},
   "outputs": [],
   "source": [
    "# defining auxiliary variables\n",
    "A = 0.00154\n",
    "g = 9.81\n",
    "Ts = 1\n",
    "r1 = 1\n",
    "r2 = 0.8\n",
    "r3 = 1\n",
    "sp = 5 * 1e-5\n",
    "q13 = r1 * sp * sign(x1 - x3) * sqrt(2 * g * fabs(x1 - x3))\n",
    "q32 = r3 * sp * sign(x3 - x2) * sqrt(2 * g * fabs(x3 - x2))\n",
    "q20 = r2 * sp * sqrt(2 * g * x2)"
   ]
  },
  {
   "cell_type": "markdown",
   "metadata": {},
   "source": [
    "The syetem is modelled here using the following discretised euqations:"
   ]
  },
  {
   "cell_type": "code",
   "execution_count": 7,
   "metadata": {},
   "outputs": [],
   "source": [
    "# model equations\n",
    "x1_dot = (-q13 + u1)/A\n",
    "x2_dot = (q32 - q20 + u2)/A\n",
    "x3_dot = (q13 - q32)/A"
   ]
  },
  {
   "cell_type": "markdown",
   "metadata": {},
   "source": [
    "The generated quations are now pushed to the do-mpc class:"
   ]
  },
  {
   "cell_type": "code",
   "execution_count": 8,
   "metadata": {},
   "outputs": [],
   "source": [
    "# saving equations\n",
    "continuous_model.set_rhs('x1', x1_dot)\n",
    "continuous_model.set_rhs('x2', x2_dot)\n",
    "continuous_model.set_rhs('x3', x3_dot)"
   ]
  },
  {
   "cell_type": "markdown",
   "metadata": {},
   "source": [
    "Finally, the model setup is completed:"
   ]
  },
  {
   "cell_type": "code",
   "execution_count": 9,
   "metadata": {},
   "outputs": [],
   "source": [
    "# setup\n",
    "continuous_model.setup()"
   ]
  },
  {
   "cell_type": "markdown",
   "metadata": {},
   "source": [
    "### Simulator"
   ]
  },
  {
   "cell_type": "markdown",
   "metadata": {},
   "source": [
    "The simulator is initialed by:"
   ]
  },
  {
   "cell_type": "code",
   "execution_count": 10,
   "metadata": {},
   "outputs": [],
   "source": [
    "# init\n",
    "continuous_simulator = do_mpc.simulator.Simulator(continuous_model)"
   ]
  },
  {
   "cell_type": "markdown",
   "metadata": {},
   "source": [
    "The time step is stored:"
   ]
  },
  {
   "cell_type": "code",
   "execution_count": 11,
   "metadata": {},
   "outputs": [],
   "source": [
    "# time step\n",
    "continuous_simulator.set_param(t_step = 1)"
   ]
  },
  {
   "cell_type": "markdown",
   "metadata": {},
   "source": [
    "Finally, the simulator is set up:"
   ]
  },
  {
   "cell_type": "code",
   "execution_count": 12,
   "metadata": {},
   "outputs": [],
   "source": [
    "# simulator setup\n",
    "continuous_simulator.setup()"
   ]
  },
  {
   "cell_type": "markdown",
   "metadata": {},
   "source": [
    "### EKF Description"
   ]
  },
  {
   "cell_type": "markdown",
   "metadata": {},
   "source": [
    "The EKF does not require any special attenting as the example does not have any do-mpc parameters or time varying parameters.\n",
    "\n",
    "The EKF is initiated by:"
   ]
  },
  {
   "cell_type": "code",
   "execution_count": 13,
   "metadata": {},
   "outputs": [],
   "source": [
    "# init\n",
    "continuous_ekf = do_mpc.estimator.EKF(model=continuous_model)"
   ]
  },
  {
   "cell_type": "markdown",
   "metadata": {},
   "source": [
    "The time step is stored:"
   ]
  },
  {
   "cell_type": "code",
   "execution_count": 14,
   "metadata": {},
   "outputs": [],
   "source": [
    "# time step\n",
    "continuous_ekf.settings.t_step = 1"
   ]
  },
  {
   "cell_type": "markdown",
   "metadata": {},
   "source": [
    "Finally, the EKF is set up:"
   ]
  },
  {
   "cell_type": "code",
   "execution_count": 15,
   "metadata": {},
   "outputs": [],
   "source": [
    "# ekf setup\n",
    "continuous_ekf.setup()"
   ]
  },
  {
   "cell_type": "markdown",
   "metadata": {},
   "source": [
    "### Simulation"
   ]
  },
  {
   "cell_type": "markdown",
   "metadata": {},
   "source": [
    "For the simulation of the Triple Tank, we inspect the file **main.py**.\n",
    "We define the initial state of the system and set it for all parts of the closed-loop configuration:"
   ]
  },
  {
   "cell_type": "code",
   "execution_count": 16,
   "metadata": {},
   "outputs": [],
   "source": [
    "# initial states of model\n",
    "x0_true = np.array([2, 2.8, 2.7]).reshape([-1, 1])\n",
    "x0 = np.array([1.2, 1.4, 1.8]).reshape([-1, 1])\n",
    "\n",
    "# pushing the initial states\n",
    "continuous_simulator.x0 = x0_true\n",
    "continuous_ekf.x0 = x0\n",
    "\n",
    "# priming the objects for furthur steps\n",
    "continuous_simulator.set_initial_guess()\n",
    "continuous_ekf.set_initial_guess()"
   ]
  },
  {
   "cell_type": "markdown",
   "metadata": {},
   "source": [
    "The domain of the simulation is stored:"
   ]
  },
  {
   "cell_type": "code",
   "execution_count": 17,
   "metadata": {},
   "outputs": [],
   "source": [
    "N_sim = 200"
   ]
  },
  {
   "cell_type": "markdown",
   "metadata": {},
   "source": [
    "The EKF can be tuned by choosing appropriate values of $Q$ and $R$.\n",
    "\n",
    "$Q$ needs to be of shape [$n_{\\text{x}}$ * $n_{\\text{x}}$].\n",
    "\n",
    "$R$ needs to be of shape [$n_{\\text{y}}$ * $n_{\\text{y}}$].\n",
    "\n",
    "The values here are found out by trial and error, it is possible to find better values for the alogorithm."
   ]
  },
  {
   "cell_type": "code",
   "execution_count": 18,
   "metadata": {},
   "outputs": [],
   "source": [
    "# ekf parameter\n",
    "q = 1e-3 * np.ones(continuous_model.n_x)\n",
    "r = 1e-1 * np.ones(continuous_model.n_y)\n",
    "\n",
    "# creating diagonal matrics with appropriate shape\n",
    "Q = np.diag(q.flatten())\n",
    "R = np.diag(r.flatten())"
   ]
  },
  {
   "cell_type": "markdown",
   "metadata": {},
   "source": [
    "Storing values for further plots:"
   ]
  },
  {
   "cell_type": "code",
   "execution_count": 19,
   "metadata": {},
   "outputs": [],
   "source": [
    "x0_simulator = [x0_true]\n",
    "x0_ekf = [x0]"
   ]
  },
  {
   "cell_type": "markdown",
   "metadata": {},
   "source": [
    "It is assumed that the system gets an input of:\n",
    "\n",
    "$u_{\\text{1}}$ = 0.0001,\n",
    "$u_{\\text{2}}$ = 0.0001\n",
    "\n",
    "Now we simulate the system:"
   ]
  },
  {
   "cell_type": "code",
   "execution_count": 20,
   "metadata": {},
   "outputs": [],
   "source": [
    "for k in range(N_sim):\n",
    "    \n",
    "    # input defined by the problem\n",
    "    u0 = np.array([0.0001, 0.0001]).reshape([-1, 1])\n",
    "\n",
    "    # Simulate with process and measurement noise\n",
    "    y_next = continuous_simulator.make_step(u0, v0=0.1*np.random.randn(continuous_model.n_v,1))\n",
    "\n",
    "    # state setimation with ekf\n",
    "    x0 = continuous_ekf.make_step(y_next = y_next, u_next = u0, Q_k=Q, R_k=R)\n",
    "\n",
    "    # results stored for plotting\n",
    "    x0_simulator.append(continuous_simulator._x0.master)\n",
    "    x0_ekf.append(x0)"
   ]
  },
  {
   "cell_type": "markdown",
   "metadata": {},
   "source": [
    "### Plots\n",
    "The obtained reualt is plotted:"
   ]
  },
  {
   "cell_type": "code",
   "execution_count": 21,
   "metadata": {},
   "outputs": [
    {
     "data": {
      "image/png": "[encoded data removed]",
      "text/plain": [
       "<Figure size 1000x600 with 3 Axes>"
      ]
     },
     "metadata": {},
     "output_type": "display_data"
    }
   ],
   "source": [
    "def visualize(nx, x_data, x_hat_data):\n",
    "    x_data = np.concatenate(x_data, axis=1)\n",
    "    x_hat_data = np.concatenate(x_hat_data, axis=1)\n",
    "\n",
    "    fig, ax = plt.subplots(nx, figsize=(10, 6))\n",
    "    fig.suptitle('EKF Observer')\n",
    "\n",
    "    for i in range(nx):\n",
    "        ax[i].plot(x_data[i, :], label='real state')\n",
    "        ax[i].plot(x_hat_data[i, :],\"r--\", label='estimated state')\n",
    "        ax[i].set_xticklabels([])\n",
    "        ax[i].set_ylabel(f'Height tank{i+1}')\n",
    "\n",
    "    ax[-1].set_xlabel('time_steps')\n",
    "    ax[0].legend()\n",
    "    plt.show()\n",
    "\n",
    "visualize(3, x0_simulator, x0_ekf)\n"
   ]
  },
  {
   "cell_type": "markdown",
   "metadata": {},
   "source": [
    "## Discrete\n",
    "\n",
    "Discretising the differential euqations with Euler Forward difference method we get:"
   ]
  },
  {
   "cell_type": "markdown",
   "metadata": {},
   "source": [
    "\\begin{align}\n",
    "{x_1}(k+1) &= x_1(k)+ \\frac{T_s}{A}(-q_{13}(k)+u_1(k)) \\\\\n",
    "{x_2}(k+1) &= x_2(k)+ \\frac{T_s}{A}(q_{32}(k)-q_{20}+u_2(k)) \\\\\n",
    "{x_3}(k+1) &= x_3(k)+ \\frac{T_s}{A}(q_{13}(k)-q_{32}) \\\\\n",
    "\\end{align}"
   ]
  },
  {
   "cell_type": "markdown",
   "metadata": {},
   "source": [
    "### Model"
   ]
  },
  {
   "cell_type": "markdown",
   "metadata": {},
   "source": [
    "In the following we will present the configuration, setup and connection between these blocks, starting with the `model`.\n",
    "The considered model of the Triple Tank is discrete and has 3 states and 2 control inputs.\n",
    "The model is initiated by:"
   ]
  },
  {
   "cell_type": "code",
   "execution_count": 22,
   "metadata": {},
   "outputs": [],
   "source": [
    "# initialisation of model\n",
    "discrete_model = do_mpc.model.Model(model_type='discrete', symvar_type='SX')"
   ]
  },
  {
   "cell_type": "markdown",
   "metadata": {},
   "source": [
    "#### States and control inputs\n",
    "\n",
    "The three states are height of tank 1 ($x_{\\text{1}}$), the height of tank 2 ($x_{\\text{2}}$), the height of tank 3 ($x_{\\text{3}}$):"
   ]
  },
  {
   "cell_type": "code",
   "execution_count": 23,
   "metadata": {},
   "outputs": [],
   "source": [
    "# states\n",
    "x1 = discrete_model.set_variable(var_type='_x', var_name='x1')\n",
    "x2 = discrete_model.set_variable(var_type='_x', var_name='x2')\n",
    "x3 = discrete_model.set_variable(var_type='_x', var_name='x3')"
   ]
  },
  {
   "cell_type": "markdown",
   "metadata": {},
   "source": [
    "The control inputs are the flowrate to tank 1 ($u_{\\text{1}}$) and the flowrate to tank 2 ($u_{\\text{2}}$):"
   ]
  },
  {
   "cell_type": "code",
   "execution_count": 24,
   "metadata": {},
   "outputs": [],
   "source": [
    "# inputs\n",
    "u1 = discrete_model.set_variable(var_type='_u', var_name='u1')\n",
    "u2 = discrete_model.set_variable(var_type='_u', var_name='u2')"
   ]
  },
  {
   "cell_type": "markdown",
   "metadata": {},
   "source": [
    "In this example only the height of tank 3 ($x_{\\text{3}}$) is measured:"
   ]
  },
  {
   "cell_type": "code",
   "execution_count": 25,
   "metadata": {},
   "outputs": [
    {
     "data": {
      "text/plain": [
       "SX((x3+x3_meas_noise))"
      ]
     },
     "execution_count": 25,
     "metadata": {},
     "output_type": "execute_result"
    }
   ],
   "source": [
    "# State measurements\n",
    "discrete_model.set_meas('x3_meas', x3)"
   ]
  },
  {
   "cell_type": "markdown",
   "metadata": {},
   "source": [
    "The fixed parameters are stored here as per the description:"
   ]
  },
  {
   "cell_type": "code",
   "execution_count": 26,
   "metadata": {},
   "outputs": [],
   "source": [
    "# defining auxiliary variables\n",
    "A = 0.00154\n",
    "g = 9.81\n",
    "Ts = 1\n",
    "r1 = 1\n",
    "r2 = 0.8\n",
    "r3 = 1\n",
    "sp = 5 * 1e-5\n",
    "q13 = r1 * sp * sign(x1 - x3) * sqrt(2 * g * fabs(x1 - x3))\n",
    "q32 = r3 * sp * sign(x3 - x2) * sqrt(2 * g * fabs(x3 - x2))\n",
    "q20 = r2 * sp * sqrt(2 * g * x2)"
   ]
  },
  {
   "cell_type": "markdown",
   "metadata": {},
   "source": [
    "The syetem is modelled here using the following discretised euqations:"
   ]
  },
  {
   "cell_type": "code",
   "execution_count": 27,
   "metadata": {},
   "outputs": [],
   "source": [
    "# model equations\n",
    "x1_next = x1 + (Ts / A) * (-q13 + u1)\n",
    "x2_next = x2 + (Ts / A) * (q32 - q20 + u2)\n",
    "x3_next = x3 + (Ts / A) * (q13 - q32)"
   ]
  },
  {
   "cell_type": "markdown",
   "metadata": {},
   "source": [
    "The generated quations are now pushed to the do-mpc class:"
   ]
  },
  {
   "cell_type": "code",
   "execution_count": 28,
   "metadata": {},
   "outputs": [],
   "source": [
    "# saving equations\n",
    "discrete_model.set_rhs('x1', x1_next)\n",
    "discrete_model.set_rhs('x2', x2_next)\n",
    "discrete_model.set_rhs('x3', x3_next)"
   ]
  },
  {
   "cell_type": "markdown",
   "metadata": {},
   "source": [
    "Finally, the model setup is completed:"
   ]
  },
  {
   "cell_type": "code",
   "execution_count": 29,
   "metadata": {},
   "outputs": [],
   "source": [
    "# setup\n",
    "discrete_model.setup()"
   ]
  },
  {
   "cell_type": "markdown",
   "metadata": {},
   "source": [
    "### Simulator"
   ]
  },
  {
   "cell_type": "markdown",
   "metadata": {},
   "source": [
    "The simulator is initialed by:"
   ]
  },
  {
   "cell_type": "code",
   "execution_count": 30,
   "metadata": {},
   "outputs": [],
   "source": [
    "# init\n",
    "discrete_simulator = do_mpc.simulator.Simulator(discrete_model)"
   ]
  },
  {
   "cell_type": "markdown",
   "metadata": {},
   "source": [
    "The time step is stored:"
   ]
  },
  {
   "cell_type": "code",
   "execution_count": 31,
   "metadata": {},
   "outputs": [],
   "source": [
    "# time step\n",
    "discrete_simulator.set_param(t_step = 1)"
   ]
  },
  {
   "cell_type": "markdown",
   "metadata": {},
   "source": [
    "Finally, the simulator is set up:"
   ]
  },
  {
   "cell_type": "code",
   "execution_count": 32,
   "metadata": {},
   "outputs": [],
   "source": [
    "# simulator setup\n",
    "discrete_simulator.setup()"
   ]
  },
  {
   "cell_type": "markdown",
   "metadata": {},
   "source": [
    "### EKF Description"
   ]
  },
  {
   "cell_type": "markdown",
   "metadata": {},
   "source": [
    "The EKF does not require any special attenting as the example does not have any do-mpc parameters or time varying parameters.\n",
    "\n",
    "The EKF is initiated by:"
   ]
  },
  {
   "cell_type": "code",
   "execution_count": 33,
   "metadata": {},
   "outputs": [],
   "source": [
    "# init\n",
    "discrete_ekf = do_mpc.estimator.EKF(model=discrete_model)"
   ]
  },
  {
   "cell_type": "markdown",
   "metadata": {},
   "source": [
    "The time step is stored:"
   ]
  },
  {
   "cell_type": "code",
   "execution_count": 34,
   "metadata": {},
   "outputs": [],
   "source": [
    "# time step\n",
    "discrete_ekf.settings.t_step = 1"
   ]
  },
  {
   "cell_type": "markdown",
   "metadata": {},
   "source": [
    "Finally, the EKF is set up:"
   ]
  },
  {
   "cell_type": "code",
   "execution_count": 35,
   "metadata": {},
   "outputs": [],
   "source": [
    "# ekf setup\n",
    "discrete_ekf.setup()"
   ]
  },
  {
   "cell_type": "markdown",
   "metadata": {},
   "source": [
    "### Simulation"
   ]
  },
  {
   "cell_type": "markdown",
   "metadata": {},
   "source": [
    "For the simulation of the Triple Tank, we inspect the file **main.py**.\n",
    "We define the initial state of the system and set it for all parts of the closed-loop configuration:"
   ]
  },
  {
   "cell_type": "code",
   "execution_count": 36,
   "metadata": {},
   "outputs": [],
   "source": [
    "# initial states of model\n",
    "x0_true = np.array([2, 2.8, 2.7]).reshape([-1, 1])\n",
    "x0 = np.array([1.2, 1.4, 1.8]).reshape([-1, 1])\n",
    "\n",
    "# pushing the initial states\n",
    "discrete_simulator.x0 = x0_true\n",
    "discrete_ekf.x0 = x0\n",
    "\n",
    "# priming the objects for furthur steps\n",
    "discrete_simulator.set_initial_guess()\n",
    "discrete_ekf.set_initial_guess()"
   ]
  },
  {
   "cell_type": "markdown",
   "metadata": {},
   "source": [
    "The domain of the simulation is stored:"
   ]
  },
  {
   "cell_type": "code",
   "execution_count": 37,
   "metadata": {},
   "outputs": [],
   "source": [
    "N_sim = 200"
   ]
  },
  {
   "cell_type": "markdown",
   "metadata": {},
   "source": [
    "The EKF can be tuned by choosing appropriate values of $Q$ and $R$.\n",
    "\n",
    "$Q$ needs to be of shape [$n_{\\text{x}}$ * $n_{\\text{x}}$].\n",
    "\n",
    "$R$ needs to be of shape [$n_{\\text{y}}$ * $n_{\\text{y}}$].\n",
    "\n",
    "The values here are found out by trial and error, it is possible to find better values for the alogorithm."
   ]
  },
  {
   "cell_type": "code",
   "execution_count": 38,
   "metadata": {},
   "outputs": [],
   "source": [
    "# ekf parameter\n",
    "q = 1e-3 * np.ones(discrete_model.n_x)\n",
    "r = 1e-2 * np.ones(discrete_model.n_y)\n",
    "\n",
    "# creating diagonal matrics with appropriate shape\n",
    "Q = np.diag(q.flatten())\n",
    "R = np.diag(r.flatten())"
   ]
  },
  {
   "cell_type": "markdown",
   "metadata": {},
   "source": [
    "Storing values for further plots:"
   ]
  },
  {
   "cell_type": "code",
   "execution_count": 39,
   "metadata": {},
   "outputs": [],
   "source": [
    "x0_simulator = [x0_true]\n",
    "x0_ekf = [x0]"
   ]
  },
  {
   "cell_type": "markdown",
   "metadata": {},
   "source": [
    "It is assumed that the system gets an input of:\n",
    "\n",
    "$u_{\\text{1}}$ = 0.0001,\n",
    "$u_{\\text{2}}$ = 0.0001\n",
    "\n",
    "Now we simulate the system:"
   ]
  },
  {
   "cell_type": "code",
   "execution_count": 40,
   "metadata": {},
   "outputs": [],
   "source": [
    "for k in range(N_sim):\n",
    "    \n",
    "    # input defined by the problem\n",
    "    u0 = np.array([0.0001, 0.0001]).reshape([-1, 1])\n",
    "\n",
    "    # Simulate with process and measurement noise\n",
    "    y_next = discrete_simulator.make_step(u0, v0=0.01*np.random.randn(discrete_model.n_v,1))\n",
    "\n",
    "    # state setimation with ekf\n",
    "    x0 = discrete_ekf.make_step(y_next = y_next, u_next = u0, Q_k=Q, R_k=R)\n",
    "\n",
    "    # results stored for plotting\n",
    "    x0_simulator.append(discrete_simulator._x0.master)\n",
    "    x0_ekf.append(x0)"
   ]
  },
  {
   "cell_type": "markdown",
   "metadata": {},
   "source": [
    "### Plots\n",
    "The obtained reualt is plotted:"
   ]
  },
  {
   "cell_type": "code",
   "execution_count": 41,
   "metadata": {},
   "outputs": [
    {
     "data": {
      "image/png": "[encoded data removed]",
      "text/plain": [
       "<Figure size 1000x600 with 3 Axes>"
      ]
     },
     "metadata": {},
     "output_type": "display_data"
    }
   ],
   "source": [
    "visualize(3, x0_simulator, x0_ekf)\n"
   ]
  }
 ],
 "metadata": {
  "kernelspec": {
   "display_name": "ekf",
   "language": "python",
   "name": "python3"
  },
  "language_info": {
   "codemirror_mode": {
    "name": "ipython",
    "version": 3
   },
   "file_extension": ".py",
   "mimetype": "text/x-python",
   "name": "python",
   "nbconvert_exporter": "python",
   "pygments_lexer": "ipython3",
   "version": "3.9.21"
  }
 },
 "nbformat": 4,
 "nbformat_minor": 2
}
